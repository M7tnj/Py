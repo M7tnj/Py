{
 "cells": [
  {
   "cell_type": "code",
   "execution_count": null,
   "metadata": {},
   "outputs": [],
   "source": [
    "# Einestin\n",
    "def Einestin(m,c):\n",
    "    E = (m*c**2)\n",
    "    return E\n",
    "    \n",
    "c = 3*(10**8)\n",
    "m = float(input(\"Enter Mass in Kg: \"))\n",
    "print(Einestin(m,c))\n",
    "\n"
   ]
  },
  {
   "cell_type": "code",
   "execution_count": null,
   "metadata": {},
   "outputs": [],
   "source": [
    "# complementary_dna\n",
    "def complementary_dna(seq):\n",
    "    seq1= seq.replace(\"A\",\"t\").replace(\"G\",\"c\").replace(\"C\",\"g\").replace(\"T\",\"a\")\n",
    "    Final_seq = seq1.upper()\n",
    "    return Final_seq\n",
    "\n",
    "\n",
    "seq = input(\"DNA seq : \").upper()\n",
    "print(complementary_dna(seq))\n"
   ]
  },
  {
   "cell_type": "code",
   "execution_count": null,
   "metadata": {},
   "outputs": [],
   "source": [
    "# Calculating AT \n",
    "def AT_Calculator(seq):\n",
    "    a = seq.count(\"A\")\n",
    "    t = seq.count(\"T\")\n",
    "    at_content = round((a+t)/len(seq)*100)\n",
    "    return at_content\n",
    "seq = input(\"seq: \").upper()\n",
    "print(AT_Calculator(seq))"
   ]
  },
  {
   "cell_type": "code",
   "execution_count": null,
   "metadata": {},
   "outputs": [],
   "source": [
    "# Restriction fragment lengths\n",
    "def fragment_calculator(dna):\n",
    "    cut1 = dna.find(\"AATTC\")\n",
    "    cut2 = dna.find(\"AATTC\")\n",
    "    first_frag = dna[:cut1]\n",
    "    second_frag = dna[cut2:]\n",
    "    print(first_frag)\n",
    "    print(second_frag)\n",
    "\n",
    "\n",
    "dna = input(\"DNA: \").upper()\n",
    "fragment_calculator(dna)"
   ]
  },
  {
   "cell_type": "code",
   "execution_count": null,
   "metadata": {},
   "outputs": [],
   "source": [
    "# Indoor Voice\n",
    "\n",
    "def Indoor_Voice(name):\n",
    "    lower_name = name.lower()\n",
    "    print(lower_name)\n",
    "\n",
    "\n",
    "name = input(\"write your Name: \")\n",
    "Indoor_Voice(name)\n",
    "\n",
    "\n",
    "\n",
    "\n",
    "\n",
    "\n"
   ]
  },
  {
   "cell_type": "code",
   "execution_count": null,
   "metadata": {},
   "outputs": [],
   "source": [
    "def play_back(Playback_Speed):\n",
    "    Playback_Speed_new = Playback_Speed.replace(\" \",\"...\")\n",
    "    print(Playback_Speed_new)\n",
    "Playback_Speed = input(\"write me your favorite lyrics: \")\n",
    "play_back(Playback_Speed)\n"
   ]
  }
 ],
 "metadata": {
  "language_info": {
   "name": "python"
  }
 },
 "nbformat": 4,
 "nbformat_minor": 2
}
